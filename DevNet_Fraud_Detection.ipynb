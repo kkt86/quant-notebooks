{
  "nbformat": 4,
  "nbformat_minor": 0,
  "metadata": {
    "colab": {
      "name": "DevNet-Fraud-Detection.ipynb",
      "provenance": [],
      "collapsed_sections": [],
      "mount_file_id": "1Hpbni_VST7ipjRQ_UZXphrOW_6OicVKw",
      "authorship_tag": "ABX9TyPIy+ScBwDVc1rHJzpxN7Ya",
      "include_colab_link": true
    },
    "kernelspec": {
      "name": "python3",
      "display_name": "Python 3"
    },
    "accelerator": "GPU"
  },
  "cells": [
    {
      "cell_type": "markdown",
      "metadata": {
        "id": "view-in-github",
        "colab_type": "text"
      },
      "source": [
        "<a href=\"https://colab.research.google.com/github/kkt86/quant-notebooks/blob/master/DevNet_Fraud_Detection.ipynb\" target=\"_parent\"><img src=\"https://colab.research.google.com/assets/colab-badge.svg\" alt=\"Open In Colab\"/></a>"
      ]
    },
    {
      "cell_type": "markdown",
      "metadata": {
        "id": "gqNxHJFZ8Z1M",
        "colab_type": "text"
      },
      "source": [
        "# DevNet\n",
        "\n",
        "Notebook, reproducing the results from Deep Anomaly Detection with Deviation Networks paper (https://paperswithcode.com/paper/deep-anomaly-detection-with-deviation)"
      ]
    },
    {
      "cell_type": "code",
      "metadata": {
        "id": "3o8Ctwa2mtZ4",
        "colab_type": "code",
        "colab": {
          "base_uri": "https://localhost:8080/",
          "height": 1000
        },
        "outputId": "beb62aca-6741-4806-8546-69394d03b83e"
      },
      "source": [
        "%pip install tensorflow==1.10.1 keras==2.2.2"
      ],
      "execution_count": 20,
      "outputs": [
        {
          "output_type": "stream",
          "text": [
            "Collecting tensorflow==1.10.1\n",
            "\u001b[?25l  Downloading https://files.pythonhosted.org/packages/04/7e/a484776c73b1431f2b077e13801531e966113492552194fe721e6ef88d5d/tensorflow-1.10.1-cp36-cp36m-manylinux1_x86_64.whl (58.4MB)\n",
            "\u001b[K     |████████████████████████████████| 58.4MB 49kB/s \n",
            "\u001b[?25hCollecting keras==2.2.2\n",
            "\u001b[?25l  Downloading https://files.pythonhosted.org/packages/34/7d/b1dedde8af99bd82f20ed7e9697aac0597de3049b1f786aa2aac3b9bd4da/Keras-2.2.2-py2.py3-none-any.whl (299kB)\n",
            "\u001b[K     |████████████████████████████████| 307kB 47.7MB/s \n",
            "\u001b[?25hCollecting numpy<=1.14.5,>=1.13.3\n",
            "\u001b[?25l  Downloading https://files.pythonhosted.org/packages/68/1e/116ad560de97694e2d0c1843a7a0075cc9f49e922454d32f49a80eb6f1f2/numpy-1.14.5-cp36-cp36m-manylinux1_x86_64.whl (12.2MB)\n",
            "\u001b[K     |████████████████████████████████| 12.2MB 257kB/s \n",
            "\u001b[?25hRequirement already satisfied: absl-py>=0.1.6 in /usr/local/lib/python3.6/dist-packages (from tensorflow==1.10.1) (0.9.0)\n",
            "Requirement already satisfied: wheel>=0.26 in /usr/local/lib/python3.6/dist-packages (from tensorflow==1.10.1) (0.34.2)\n",
            "Requirement already satisfied: six>=1.10.0 in /usr/local/lib/python3.6/dist-packages (from tensorflow==1.10.1) (1.15.0)\n",
            "Requirement already satisfied: protobuf>=3.6.0 in /usr/local/lib/python3.6/dist-packages (from tensorflow==1.10.1) (3.12.4)\n",
            "Requirement already satisfied: astor>=0.6.0 in /usr/local/lib/python3.6/dist-packages (from tensorflow==1.10.1) (0.8.1)\n",
            "Collecting tensorboard<1.11.0,>=1.10.0\n",
            "\u001b[?25l  Downloading https://files.pythonhosted.org/packages/c6/17/ecd918a004f297955c30b4fffbea100b1606c225dbf0443264012773c3ff/tensorboard-1.10.0-py3-none-any.whl (3.3MB)\n",
            "\u001b[K     |████████████████████████████████| 3.3MB 53.7MB/s \n",
            "\u001b[?25hCollecting setuptools<=39.1.0\n",
            "\u001b[?25l  Downloading https://files.pythonhosted.org/packages/8c/10/79282747f9169f21c053c562a0baa21815a8c7879be97abd930dbcf862e8/setuptools-39.1.0-py2.py3-none-any.whl (566kB)\n",
            "\u001b[K     |████████████████████████████████| 573kB 44.3MB/s \n",
            "\u001b[?25hRequirement already satisfied: gast>=0.2.0 in /usr/local/lib/python3.6/dist-packages (from tensorflow==1.10.1) (0.3.3)\n",
            "Requirement already satisfied: grpcio>=1.8.6 in /usr/local/lib/python3.6/dist-packages (from tensorflow==1.10.1) (1.31.0)\n",
            "Requirement already satisfied: termcolor>=1.1.0 in /usr/local/lib/python3.6/dist-packages (from tensorflow==1.10.1) (1.1.0)\n",
            "Collecting keras-preprocessing==1.0.2\n",
            "  Downloading https://files.pythonhosted.org/packages/71/26/1e778ebd737032749824d5cba7dbd3b0cf9234b87ab5ec79f5f0403ca7e9/Keras_Preprocessing-1.0.2-py2.py3-none-any.whl\n",
            "Requirement already satisfied: pyyaml in /usr/local/lib/python3.6/dist-packages (from keras==2.2.2) (3.13)\n",
            "Collecting keras-applications==1.0.4\n",
            "\u001b[?25l  Downloading https://files.pythonhosted.org/packages/54/90/8f327deaa37a71caddb59b7b4aaa9d4b3e90c0e76f8c2d1572005278ddc5/Keras_Applications-1.0.4-py2.py3-none-any.whl (43kB)\n",
            "\u001b[K     |████████████████████████████████| 51kB 7.7MB/s \n",
            "\u001b[?25hRequirement already satisfied: scipy>=0.14 in /usr/local/lib/python3.6/dist-packages (from keras==2.2.2) (1.4.1)\n",
            "Requirement already satisfied: h5py in /usr/local/lib/python3.6/dist-packages (from keras==2.2.2) (2.10.0)\n",
            "Requirement already satisfied: werkzeug>=0.11.10 in /usr/local/lib/python3.6/dist-packages (from tensorboard<1.11.0,>=1.10.0->tensorflow==1.10.1) (1.0.1)\n",
            "Requirement already satisfied: markdown>=2.6.8 in /usr/local/lib/python3.6/dist-packages (from tensorboard<1.11.0,>=1.10.0->tensorflow==1.10.1) (3.2.2)\n",
            "Requirement already satisfied: importlib-metadata; python_version < \"3.8\" in /usr/local/lib/python3.6/dist-packages (from markdown>=2.6.8->tensorboard<1.11.0,>=1.10.0->tensorflow==1.10.1) (1.7.0)\n",
            "Requirement already satisfied: zipp>=0.5 in /usr/local/lib/python3.6/dist-packages (from importlib-metadata; python_version < \"3.8\"->markdown>=2.6.8->tensorboard<1.11.0,>=1.10.0->tensorflow==1.10.1) (3.1.0)\n",
            "\u001b[31mERROR: xarray 0.15.1 has requirement numpy>=1.15, but you'll have numpy 1.14.5 which is incompatible.\u001b[0m\n",
            "\u001b[31mERROR: xarray 0.15.1 has requirement setuptools>=41.2, but you'll have setuptools 39.1.0 which is incompatible.\u001b[0m\n",
            "\u001b[31mERROR: umap-learn 0.4.6 has requirement numpy>=1.17, but you'll have numpy 1.14.5 which is incompatible.\u001b[0m\n",
            "\u001b[31mERROR: tifffile 2020.7.24 has requirement numpy>=1.15.1, but you'll have numpy 1.14.5 which is incompatible.\u001b[0m\n",
            "\u001b[31mERROR: spacy 2.2.4 has requirement numpy>=1.15.0, but you'll have numpy 1.14.5 which is incompatible.\u001b[0m\n",
            "\u001b[31mERROR: plotnine 0.6.0 has requirement numpy>=1.16.0, but you'll have numpy 1.14.5 which is incompatible.\u001b[0m\n",
            "\u001b[31mERROR: numba 0.48.0 has requirement numpy>=1.15, but you'll have numpy 1.14.5 which is incompatible.\u001b[0m\n",
            "\u001b[31mERROR: imgaug 0.2.9 has requirement numpy>=1.15.0, but you'll have numpy 1.14.5 which is incompatible.\u001b[0m\n",
            "\u001b[31mERROR: google-auth 1.17.2 has requirement setuptools>=40.3.0, but you'll have setuptools 39.1.0 which is incompatible.\u001b[0m\n",
            "\u001b[31mERROR: fastai 1.0.61 has requirement numpy>=1.15, but you'll have numpy 1.14.5 which is incompatible.\u001b[0m\n",
            "\u001b[31mERROR: datascience 0.10.6 has requirement folium==0.2.1, but you'll have folium 0.8.3 which is incompatible.\u001b[0m\n",
            "\u001b[31mERROR: cvxpy 1.0.31 has requirement numpy>=1.15, but you'll have numpy 1.14.5 which is incompatible.\u001b[0m\n",
            "\u001b[31mERROR: blis 0.4.1 has requirement numpy>=1.15.0, but you'll have numpy 1.14.5 which is incompatible.\u001b[0m\n",
            "\u001b[31mERROR: astropy 4.0.1.post1 has requirement numpy>=1.16, but you'll have numpy 1.14.5 which is incompatible.\u001b[0m\n",
            "\u001b[31mERROR: albumentations 0.1.12 has requirement imgaug<0.2.7,>=0.2.5, but you'll have imgaug 0.2.9 which is incompatible.\u001b[0m\n",
            "Installing collected packages: numpy, tensorboard, setuptools, tensorflow, keras-preprocessing, keras-applications, keras\n",
            "  Found existing installation: numpy 1.18.5\n",
            "    Uninstalling numpy-1.18.5:\n",
            "      Successfully uninstalled numpy-1.18.5\n",
            "  Found existing installation: tensorboard 2.3.0\n",
            "    Uninstalling tensorboard-2.3.0:\n",
            "      Successfully uninstalled tensorboard-2.3.0\n",
            "  Found existing installation: setuptools 49.2.0\n",
            "    Uninstalling setuptools-49.2.0:\n",
            "      Successfully uninstalled setuptools-49.2.0\n",
            "  Found existing installation: tensorflow 2.3.0\n",
            "    Uninstalling tensorflow-2.3.0:\n",
            "      Successfully uninstalled tensorflow-2.3.0\n",
            "  Found existing installation: Keras-Preprocessing 1.1.2\n",
            "    Uninstalling Keras-Preprocessing-1.1.2:\n",
            "      Successfully uninstalled Keras-Preprocessing-1.1.2\n",
            "  Found existing installation: Keras 2.4.3\n",
            "    Uninstalling Keras-2.4.3:\n",
            "      Successfully uninstalled Keras-2.4.3\n",
            "Successfully installed keras-2.2.2 keras-applications-1.0.4 keras-preprocessing-1.0.2 numpy-1.14.5 setuptools-39.1.0 tensorboard-1.10.0 tensorflow-1.10.1\n"
          ],
          "name": "stdout"
        },
        {
          "output_type": "display_data",
          "data": {
            "application/vnd.colab-display-data+json": {
              "pip_warning": {
                "packages": [
                  "keras",
                  "keras_preprocessing",
                  "numpy",
                  "pkg_resources",
                  "tensorboard",
                  "tensorflow"
                ]
              }
            }
          },
          "metadata": {
            "tags": []
          }
        }
      ]
    },
    {
      "cell_type": "code",
      "metadata": {
        "id": "RGnnDembnfVb",
        "colab_type": "code",
        "colab": {
          "base_uri": "https://localhost:8080/",
          "height": 72
        },
        "outputId": "1b50352a-b21e-4087-a461-85de4015306b"
      },
      "source": [
        "import tensorflow as tf\n",
        "import keras\n",
        "\n",
        "print(f\"Tensorflow version: {tf.__version__}\")\n",
        "print(f\"Keras version: {keras.__version__}\")"
      ],
      "execution_count": 1,
      "outputs": [
        {
          "output_type": "stream",
          "text": [
            "Tensorflow version: 1.10.1\n",
            "Keras version: 2.2.2\n"
          ],
          "name": "stdout"
        },
        {
          "output_type": "stream",
          "text": [
            "Using TensorFlow backend.\n"
          ],
          "name": "stderr"
        }
      ]
    },
    {
      "cell_type": "markdown",
      "metadata": {
        "id": "cDedfLNF-G47",
        "colab_type": "text"
      },
      "source": [
        "### Load credit card transaction data"
      ]
    },
    {
      "cell_type": "code",
      "metadata": {
        "id": "d6uhhu2s8VMd",
        "colab_type": "code",
        "colab": {
          "base_uri": "https://localhost:8080/",
          "height": 218
        },
        "outputId": "072b7441-b1f2-4b42-d4a5-60274124e8b1"
      },
      "source": [
        "import pandas as pd\n",
        "\n",
        "creditcard_data = pd.read_csv(\"drive/My Drive/colab data/creditcard.csv\")\n",
        "creditcard_data = creditcard_data.drop(\"Time\", axis=1)\n",
        "\n",
        "creditcard_data.head()"
      ],
      "execution_count": 2,
      "outputs": [
        {
          "output_type": "execute_result",
          "data": {
            "text/html": [
              "<div>\n",
              "<style scoped>\n",
              "    .dataframe tbody tr th:only-of-type {\n",
              "        vertical-align: middle;\n",
              "    }\n",
              "\n",
              "    .dataframe tbody tr th {\n",
              "        vertical-align: top;\n",
              "    }\n",
              "\n",
              "    .dataframe thead th {\n",
              "        text-align: right;\n",
              "    }\n",
              "</style>\n",
              "<table border=\"1\" class=\"dataframe\">\n",
              "  <thead>\n",
              "    <tr style=\"text-align: right;\">\n",
              "      <th></th>\n",
              "      <th>V1</th>\n",
              "      <th>V2</th>\n",
              "      <th>V3</th>\n",
              "      <th>V4</th>\n",
              "      <th>V5</th>\n",
              "      <th>V6</th>\n",
              "      <th>V7</th>\n",
              "      <th>V8</th>\n",
              "      <th>V9</th>\n",
              "      <th>V10</th>\n",
              "      <th>V11</th>\n",
              "      <th>V12</th>\n",
              "      <th>V13</th>\n",
              "      <th>V14</th>\n",
              "      <th>V15</th>\n",
              "      <th>V16</th>\n",
              "      <th>V17</th>\n",
              "      <th>V18</th>\n",
              "      <th>V19</th>\n",
              "      <th>V20</th>\n",
              "      <th>V21</th>\n",
              "      <th>V22</th>\n",
              "      <th>V23</th>\n",
              "      <th>V24</th>\n",
              "      <th>V25</th>\n",
              "      <th>V26</th>\n",
              "      <th>V27</th>\n",
              "      <th>V28</th>\n",
              "      <th>Amount</th>\n",
              "      <th>Class</th>\n",
              "    </tr>\n",
              "  </thead>\n",
              "  <tbody>\n",
              "    <tr>\n",
              "      <th>0</th>\n",
              "      <td>-1.359807</td>\n",
              "      <td>-0.072781</td>\n",
              "      <td>2.536347</td>\n",
              "      <td>1.378155</td>\n",
              "      <td>-0.338321</td>\n",
              "      <td>0.462388</td>\n",
              "      <td>0.239599</td>\n",
              "      <td>0.098698</td>\n",
              "      <td>0.363787</td>\n",
              "      <td>0.090794</td>\n",
              "      <td>-0.551600</td>\n",
              "      <td>-0.617801</td>\n",
              "      <td>-0.991390</td>\n",
              "      <td>-0.311169</td>\n",
              "      <td>1.468177</td>\n",
              "      <td>-0.470401</td>\n",
              "      <td>0.207971</td>\n",
              "      <td>0.025791</td>\n",
              "      <td>0.403993</td>\n",
              "      <td>0.251412</td>\n",
              "      <td>-0.018307</td>\n",
              "      <td>0.277838</td>\n",
              "      <td>-0.110474</td>\n",
              "      <td>0.066928</td>\n",
              "      <td>0.128539</td>\n",
              "      <td>-0.189115</td>\n",
              "      <td>0.133558</td>\n",
              "      <td>-0.021053</td>\n",
              "      <td>149.62</td>\n",
              "      <td>0</td>\n",
              "    </tr>\n",
              "    <tr>\n",
              "      <th>1</th>\n",
              "      <td>1.191857</td>\n",
              "      <td>0.266151</td>\n",
              "      <td>0.166480</td>\n",
              "      <td>0.448154</td>\n",
              "      <td>0.060018</td>\n",
              "      <td>-0.082361</td>\n",
              "      <td>-0.078803</td>\n",
              "      <td>0.085102</td>\n",
              "      <td>-0.255425</td>\n",
              "      <td>-0.166974</td>\n",
              "      <td>1.612727</td>\n",
              "      <td>1.065235</td>\n",
              "      <td>0.489095</td>\n",
              "      <td>-0.143772</td>\n",
              "      <td>0.635558</td>\n",
              "      <td>0.463917</td>\n",
              "      <td>-0.114805</td>\n",
              "      <td>-0.183361</td>\n",
              "      <td>-0.145783</td>\n",
              "      <td>-0.069083</td>\n",
              "      <td>-0.225775</td>\n",
              "      <td>-0.638672</td>\n",
              "      <td>0.101288</td>\n",
              "      <td>-0.339846</td>\n",
              "      <td>0.167170</td>\n",
              "      <td>0.125895</td>\n",
              "      <td>-0.008983</td>\n",
              "      <td>0.014724</td>\n",
              "      <td>2.69</td>\n",
              "      <td>0</td>\n",
              "    </tr>\n",
              "    <tr>\n",
              "      <th>2</th>\n",
              "      <td>-1.358354</td>\n",
              "      <td>-1.340163</td>\n",
              "      <td>1.773209</td>\n",
              "      <td>0.379780</td>\n",
              "      <td>-0.503198</td>\n",
              "      <td>1.800499</td>\n",
              "      <td>0.791461</td>\n",
              "      <td>0.247676</td>\n",
              "      <td>-1.514654</td>\n",
              "      <td>0.207643</td>\n",
              "      <td>0.624501</td>\n",
              "      <td>0.066084</td>\n",
              "      <td>0.717293</td>\n",
              "      <td>-0.165946</td>\n",
              "      <td>2.345865</td>\n",
              "      <td>-2.890083</td>\n",
              "      <td>1.109969</td>\n",
              "      <td>-0.121359</td>\n",
              "      <td>-2.261857</td>\n",
              "      <td>0.524980</td>\n",
              "      <td>0.247998</td>\n",
              "      <td>0.771679</td>\n",
              "      <td>0.909412</td>\n",
              "      <td>-0.689281</td>\n",
              "      <td>-0.327642</td>\n",
              "      <td>-0.139097</td>\n",
              "      <td>-0.055353</td>\n",
              "      <td>-0.059752</td>\n",
              "      <td>378.66</td>\n",
              "      <td>0</td>\n",
              "    </tr>\n",
              "    <tr>\n",
              "      <th>3</th>\n",
              "      <td>-0.966272</td>\n",
              "      <td>-0.185226</td>\n",
              "      <td>1.792993</td>\n",
              "      <td>-0.863291</td>\n",
              "      <td>-0.010309</td>\n",
              "      <td>1.247203</td>\n",
              "      <td>0.237609</td>\n",
              "      <td>0.377436</td>\n",
              "      <td>-1.387024</td>\n",
              "      <td>-0.054952</td>\n",
              "      <td>-0.226487</td>\n",
              "      <td>0.178228</td>\n",
              "      <td>0.507757</td>\n",
              "      <td>-0.287924</td>\n",
              "      <td>-0.631418</td>\n",
              "      <td>-1.059647</td>\n",
              "      <td>-0.684093</td>\n",
              "      <td>1.965775</td>\n",
              "      <td>-1.232622</td>\n",
              "      <td>-0.208038</td>\n",
              "      <td>-0.108300</td>\n",
              "      <td>0.005274</td>\n",
              "      <td>-0.190321</td>\n",
              "      <td>-1.175575</td>\n",
              "      <td>0.647376</td>\n",
              "      <td>-0.221929</td>\n",
              "      <td>0.062723</td>\n",
              "      <td>0.061458</td>\n",
              "      <td>123.50</td>\n",
              "      <td>0</td>\n",
              "    </tr>\n",
              "    <tr>\n",
              "      <th>4</th>\n",
              "      <td>-1.158233</td>\n",
              "      <td>0.877737</td>\n",
              "      <td>1.548718</td>\n",
              "      <td>0.403034</td>\n",
              "      <td>-0.407193</td>\n",
              "      <td>0.095921</td>\n",
              "      <td>0.592941</td>\n",
              "      <td>-0.270533</td>\n",
              "      <td>0.817739</td>\n",
              "      <td>0.753074</td>\n",
              "      <td>-0.822843</td>\n",
              "      <td>0.538196</td>\n",
              "      <td>1.345852</td>\n",
              "      <td>-1.119670</td>\n",
              "      <td>0.175121</td>\n",
              "      <td>-0.451449</td>\n",
              "      <td>-0.237033</td>\n",
              "      <td>-0.038195</td>\n",
              "      <td>0.803487</td>\n",
              "      <td>0.408542</td>\n",
              "      <td>-0.009431</td>\n",
              "      <td>0.798278</td>\n",
              "      <td>-0.137458</td>\n",
              "      <td>0.141267</td>\n",
              "      <td>-0.206010</td>\n",
              "      <td>0.502292</td>\n",
              "      <td>0.219422</td>\n",
              "      <td>0.215153</td>\n",
              "      <td>69.99</td>\n",
              "      <td>0</td>\n",
              "    </tr>\n",
              "  </tbody>\n",
              "</table>\n",
              "</div>"
            ],
            "text/plain": [
              "         V1        V2        V3        V4  ...       V27       V28  Amount  Class\n",
              "0 -1.359807 -0.072781  2.536347  1.378155  ...  0.133558 -0.021053  149.62      0\n",
              "1  1.191857  0.266151  0.166480  0.448154  ... -0.008983  0.014724    2.69      0\n",
              "2 -1.358354 -1.340163  1.773209  0.379780  ... -0.055353 -0.059752  378.66      0\n",
              "3 -0.966272 -0.185226  1.792993 -0.863291  ...  0.062723  0.061458  123.50      0\n",
              "4 -1.158233  0.877737  1.548718  0.403034  ...  0.219422  0.215153   69.99      0\n",
              "\n",
              "[5 rows x 30 columns]"
            ]
          },
          "metadata": {
            "tags": []
          },
          "execution_count": 2
        }
      ]
    },
    {
      "cell_type": "code",
      "metadata": {
        "id": "4LA1fHYZ-UC8",
        "colab_type": "code",
        "colab": {
          "base_uri": "https://localhost:8080/",
          "height": 126
        },
        "outputId": "435ed363-62aa-4ead-dd81-7064c15886e6"
      },
      "source": [
        "# split and preprocess data\n",
        "import numpy as np\n",
        "from sklearn.model_selection import train_test_split\n",
        "from sklearn.preprocessing import minmax_scale\n",
        "\n",
        "feature_cols = [col for col in creditcard_data.columns if col != \"Class\"]\n",
        "target_col = \"Class\"\n",
        "\n",
        "insample_X, outsample_X, insample_y, outsample_y = train_test_split(creditcard_data[feature_cols], \n",
        "                                                                    creditcard_data[target_col], \n",
        "                                                                    train_size=0.8, \n",
        "                                                                    stratify=creditcard_data[\"Class\"])\n",
        "\n",
        "print(f\"Train data shape: {insample_X.shape}\")\n",
        "print(f\"Test data shape : {outsample_X.shape}\")\n",
        "print(f\"Positive values in train: {sum(insample_y == 1)}\")\n",
        "print(f\"Positive values in test : {sum(outsample_y == 1)}\")\n",
        "print(f\"Percentage positive values in train: {round(100*sum(insample_y == 1)/len(insample_y), 3)}\")\n",
        "print(f\"Percentage positive values in test : {round(100*sum(outsample_y == 1)/len(outsample_y), 3)}\")\n",
        "\n",
        "# scale values in range [0,1]\n",
        "insample_X = minmax_scale(insample_X)\n",
        "outsample_X = minmax_scale(outsample_X)"
      ],
      "execution_count": 3,
      "outputs": [
        {
          "output_type": "stream",
          "text": [
            "Train data shape: (227845, 29)\n",
            "Test data shape : (56962, 29)\n",
            "Positive values in train: 394\n",
            "Positive values in test : 98\n",
            "Percentage positive values in train: 0.173\n",
            "Percentage positive values in test : 0.172\n"
          ],
          "name": "stdout"
        }
      ]
    },
    {
      "cell_type": "markdown",
      "metadata": {
        "id": "2KxAB8CDDzVc",
        "colab_type": "text"
      },
      "source": [
        "### Main training loop"
      ]
    },
    {
      "cell_type": "code",
      "metadata": {
        "id": "qgXxzBwiU5hz",
        "colab_type": "code",
        "colab": {}
      },
      "source": [
        "def inject_noise(seed, n_out, random_seed):\n",
        "  \"\"\"\n",
        "  add anomalies to training data to replicate anomaly contaminated data sets.\n",
        "  we randomly swape 5% features of anomalies to avoid duplicate contaminated anomalies.\n",
        "  this is for dense data\n",
        "  \"\"\"\n",
        "  rng = np.random.RandomState(random_seed) \n",
        "  n_sample, dim = seed.shape\n",
        "  swap_ratio = 0.05\n",
        "  n_swap_feat = int(swap_ratio * dim)\n",
        "  noise = np.empty((n_out, dim))\n",
        "  for i in np.arange(n_out):\n",
        "    outlier_idx = rng.choice(n_sample, 2, replace = False)\n",
        "    o1 = seed[outlier_idx[0]]\n",
        "    o2 = seed[outlier_idx[1]]\n",
        "    swap_feats = rng.choice(dim, n_swap_feat, replace = False)\n",
        "    noise[i] = o1.copy()\n",
        "    noise[i, swap_feats] = o2[swap_feats]\n",
        "  return noise"
      ],
      "execution_count": 13,
      "outputs": []
    },
    {
      "cell_type": "code",
      "metadata": {
        "id": "k7kL6F7rgzca",
        "colab_type": "code",
        "colab": {}
      },
      "source": [
        "from keras import regularizers\n",
        "from keras import backend as K\n",
        "from keras.models import Model, load_model\n",
        "from keras.layers import Input, Dense\n",
        "from keras.optimizers import RMSprop\n",
        "from keras.callbacks import ModelCheckpoint, TensorBoard\n",
        "\n",
        "def dev_network_linear(input_shape):\n",
        "  '''\n",
        "  network architecture with no hidden layer, equivalent to linear mapping from\n",
        "  raw inputs to anomaly scores\n",
        "  '''    \n",
        "  x_input = Input(shape=input_shape)\n",
        "  intermediate = Dense(1, activation='linear',  name = 'score')(x_input)\n",
        "  return Model(x_input, intermediate)\n",
        "\n",
        "def dev_network_s(input_shape):\n",
        "  \"\"\"\n",
        "  network architecture with one hidden layer\n",
        "  \"\"\"\n",
        "  x_input = Input(shape=input_shape)\n",
        "  intermediate = Dense(20, activation=\"relu\", kernel_regularizer=regularizers.l2(0.01), name=\"hl1\")(x_input)\n",
        "  intermediate = Dense(1, activation=\"linear\", name=\"score\")(intermediate)\n",
        "  return Model(x_input, intermediate)\n",
        "\n",
        "def dev_network_d(input_shape):\n",
        "  \"\"\"\n",
        "  network architecture with three hidden layers\n",
        "  \"\"\"\n",
        "  x_input = Input(shape=input_shape)\n",
        "  intermediate = Dense(1000, activation=\"relu\", kernel_regularizer=regularizers.l2(0.01), name=\"hl1\")(x_input)\n",
        "  intermediate = Dense(250, activation=\"relu\", kernel_regularizer=regularizers.l2(0.01), name=\"hl2\")(intermediate)\n",
        "  intermediate = Dense(20, activation=\"relu\", kernel_regularizer=regularizers.l2(0.03), name=\"hl3\")(intermediate)\n",
        "  intermediate = Dense(1, activation=\"linear\", name=\"score\")(intermediate)\n",
        "  return Model(x_input, intermediate)\n",
        "\n",
        "def deviation_loss(y_true, y_pred):\n",
        "  '''\n",
        "  z-score-based deviation loss\n",
        "  '''    \n",
        "  confidence_margin = 5.     \n",
        "  ## size=5000 is the setting of l in algorithm 1 in the paper\n",
        "  ref = K.variable(np.random.normal(loc = 0., scale= 1.0, size = 5000) , dtype='float32')\n",
        "  dev = (y_pred - K.mean(ref)) / K.std(ref)\n",
        "  inlier_loss = K.abs(dev) \n",
        "  outlier_loss = K.abs(K.maximum(confidence_margin - dev, 0.))\n",
        "  return K.mean((1 - y_true) * inlier_loss + y_true * outlier_loss)\n",
        "\n",
        "def deviation_network(input_shape, network_depth):\n",
        "  '''\n",
        "  construct the deviation network-based detection model\n",
        "  '''\n",
        "  if network_depth == 4:\n",
        "      model = dev_network_d(input_shape)\n",
        "  elif network_depth == 2:\n",
        "      model = dev_network_s(input_shape)\n",
        "  elif network_depth == 1:\n",
        "      model = dev_network_linear(input_shape)\n",
        "  else:\n",
        "      sys.exit(\"The network depth is not set properly\")\n",
        "  rms = RMSprop(clipnorm=1.)\n",
        "  model.compile(loss=deviation_loss, optimizer=rms)\n",
        "  return model"
      ],
      "execution_count": 28,
      "outputs": []
    },
    {
      "cell_type": "code",
      "metadata": {
        "id": "7HXE2O9LkA69",
        "colab_type": "code",
        "colab": {}
      },
      "source": [
        "def batch_generator_sup(x, outlier_indices, inlier_indices, batch_size, nb_batch, rng):\n",
        "  \"\"\"\n",
        "  batch generator\n",
        "  \"\"\"\n",
        "  rng = np.random.RandomState(rng.randint(MAX_INT, size = 1))\n",
        "  counter = 0\n",
        "  while 1:                \n",
        "    ref, training_labels = input_batch_generation_sup(x, outlier_indices, inlier_indices, batch_size, rng)\n",
        "    counter += 1\n",
        "    yield(ref, training_labels)\n",
        "    if (counter > nb_batch):\n",
        "        counter = 0\n",
        " \n",
        "def input_batch_generation_sup(x_train, outlier_indices, inlier_indices, batch_size, rng):\n",
        "    '''\n",
        "    batchs of samples. Alternates between positive and negative pairs.\n",
        "    '''      \n",
        "    dim = x_train.shape[1]\n",
        "    ref = np.empty((batch_size, dim))    \n",
        "    training_labels = []\n",
        "    n_inliers = len(inlier_indices)\n",
        "    n_outliers = len(outlier_indices)\n",
        "    for i in range(batch_size):    \n",
        "      if(i % 2 == 0):\n",
        "        sid = rng.choice(n_inliers, 1)\n",
        "        ref[i] = x_train[inlier_indices[sid]]\n",
        "        training_labels += [0.]\n",
        "      else:\n",
        "        sid = rng.choice(n_outliers, 1)\n",
        "        ref[i] = x_train[outlier_indices[sid]]\n",
        "        training_labels += [1.]\n",
        "    return np.array(ref), np.array(training_labels)"
      ],
      "execution_count": 29,
      "outputs": []
    },
    {
      "cell_type": "code",
      "metadata": {
        "id": "5ao3xCH8ohOD",
        "colab_type": "code",
        "colab": {}
      },
      "source": [
        "from sklearn.metrics import average_precision_score, roc_auc_score\n",
        "\n",
        "def aucPerformance(mse, labels):\n",
        "  roc_auc = roc_auc_score(labels, mse)\n",
        "  ap = average_precision_score(labels, mse)\n",
        "  print(\"AUC-ROC: %.4f, AUC-PR: %.4f\" % (roc_auc, ap))\n",
        "  return roc_auc, ap;"
      ],
      "execution_count": 30,
      "outputs": []
    },
    {
      "cell_type": "code",
      "metadata": {
        "id": "BZWP17-fohCe",
        "colab_type": "code",
        "colab": {}
      },
      "source": [
        "def load_model_weight_predict(model_name, input_shape, network_depth, x_test):\n",
        "  '''\n",
        "  load the saved weights to make predictions\n",
        "  '''\n",
        "  model = deviation_network(input_shape, network_depth)\n",
        "  model.load_weights(model_name)\n",
        "  scoring_network = Model(inputs=model.input, outputs=model.output)    \n",
        "  scores = scoring_network.predict(x_test)\n",
        "  return scores"
      ],
      "execution_count": 31,
      "outputs": []
    },
    {
      "cell_type": "code",
      "metadata": {
        "id": "H483fptXAMB1",
        "colab_type": "code",
        "colab": {
          "base_uri": "https://localhost:8080/",
          "height": 199
        },
        "outputId": "3f54ca22-906d-4623-d74f-93d572466ff0"
      },
      "source": [
        "import time\n",
        "\n",
        "MAX_INT = np.iinfo(np.int32).max\n",
        "\n",
        "batch_size = 512      # batch size used in SGD\n",
        "cont_rate = 0.02      # the outlier contamination rate in the training data\n",
        "epochs = 50           # the number of epochs\n",
        "known_outliers = 1000 # the number of labeled outliers available at hand\"\n",
        "nb_batch = 20         # the number of batches per epoch\n",
        "network_depth = 2     # the depth of the network architecture\n",
        "random_seed = 42      # random seed number\n",
        "runs = 10             # how many times we repeat the experiments to obtain the average performance\n",
        "\n",
        "outlier_indices = np.where(insample_y == 1)[0]\n",
        "outliers = insample_X[outlier_indices]  \n",
        "n_outliers_org = outliers.shape[0] \n",
        "\n",
        "rng = np.random.RandomState(random_seed)\n",
        "rauc = np.zeros(runs)\n",
        "ap = np.zeros(runs) \n",
        "\n",
        "for run in np.arange(runs):\n",
        "  x_train, x_test, y_train, y_test = train_test_split(insample_X, insample_y, \n",
        "                                                      test_size=0.2, \n",
        "                                                      random_state=random_seed, \n",
        "                                                      stratify=insample_y)\n",
        "  y_train = np.array(y_train)\n",
        "  y_test = np.array(y_test)\n",
        "  outlier_indices = np.where(y_train == 1)[0]\n",
        "  inlier_indices = np.where(y_train == 0)[0]\n",
        "  n_outliers = len(outlier_indices)\n",
        "  \n",
        "  n_noise = len(np.where(y_train == 0)[0])*cont_rate / (1. - cont_rate)\n",
        "  n_noise = int(n_noise)\n",
        "\n",
        "  rng = np.random.RandomState(random_seed)\n",
        "\n",
        "  # keep maximum number of outliers below 30 (try removing this)\n",
        "  if n_outliers > known_outliers:\n",
        "    mn = n_outliers - known_outliers\n",
        "    remove_idx = rng.choice(outlier_indices, mn, replace=False)\n",
        "    x_train = np.delete(x_train, remove_idx, axis=0)\n",
        "    y_train = np.delete(y_train, remove_idx, axis=0)\n",
        "\n",
        "  noises = inject_noise(outliers, n_noise, random_seed)\n",
        "  x_train = np.append(x_train, noises, axis=0)\n",
        "  y_train = np.append(y_train, np.zeros((noises.shape[0], 1)))\n",
        "\n",
        "  outlier_indices = np.where(y_train == 1)[0]\n",
        "  inlier_indices = np.where(y_train == 0)[0]\n",
        "\n",
        "  input_shape = x_train.shape[1:]\n",
        "  n_samples_trn = x_train.shape[0]\n",
        "  n_outliers = len(outlier_indices)            \n",
        "\n",
        "  start_time = time.time()\n",
        "  input_shape = x_train.shape[1:]\n",
        "  model = deviation_network(input_shape, network_depth)\n",
        "  model_name = \"./model/devnet_\" + str(cont_rate) + \"cr_\"  + str(batch_size) +\"bs_\" + str(known_outliers) + \"ko_\" + str(network_depth) +\"d.h5\"\n",
        "  checkpointer = ModelCheckpoint(model_name, monitor='loss', verbose=0, save_best_only = True, save_weights_only = True)\n",
        "\n",
        "  model.fit_generator(batch_generator_sup(x_train, outlier_indices, inlier_indices, batch_size, nb_batch, rng), \n",
        "                      steps_per_epoch = nb_batch,\n",
        "                      epochs = epochs,\n",
        "                      callbacks=[checkpointer], verbose=0) \n",
        "  train_time = time.time() - start_time\n",
        "\n",
        "  start_time = time.time()\n",
        "  scores = load_model_weight_predict(model_name, input_shape, network_depth, x_test)\n",
        "  test_time = time.time() - start_time\n",
        "  rauc[run], ap[run] = aucPerformance(scores, y_test)"
      ],
      "execution_count": 97,
      "outputs": [
        {
          "output_type": "stream",
          "text": [
            "AUC-ROC: 0.9715, AUC-PR: 0.6761\n",
            "AUC-ROC: 0.9719, AUC-PR: 0.6758\n",
            "AUC-ROC: 0.9713, AUC-PR: 0.6802\n",
            "AUC-ROC: 0.9729, AUC-PR: 0.6771\n",
            "AUC-ROC: 0.9701, AUC-PR: 0.6769\n",
            "AUC-ROC: 0.9687, AUC-PR: 0.6750\n",
            "AUC-ROC: 0.9711, AUC-PR: 0.6807\n",
            "AUC-ROC: 0.9699, AUC-PR: 0.6763\n",
            "AUC-ROC: 0.9686, AUC-PR: 0.6757\n",
            "AUC-ROC: 0.9716, AUC-PR: 0.6811\n"
          ],
          "name": "stdout"
        }
      ]
    },
    {
      "cell_type": "markdown",
      "metadata": {
        "id": "yb6N3py6zFt5",
        "colab_type": "text"
      },
      "source": [
        "### Evaluate the model on the outsample data"
      ]
    },
    {
      "cell_type": "code",
      "metadata": {
        "id": "wbHvM3hzATFL",
        "colab_type": "code",
        "colab": {}
      },
      "source": [
        "import seaborn as sns\n",
        "import matplotlib.pyplot as plt\n",
        "from sklearn.metrics import confusion_matrix, precision_score, recall_score, f1_score\n",
        "%matplotlib inline\n",
        "\n",
        "def plot_confusion_matrix(y_true, y_pred, norm=True):\n",
        "  precision = precision_score(y_true, y_pred)\n",
        "  recall = recall_score(y_true, y_pred)\n",
        "  f1 = f1_score(y_true, y_pred)\n",
        "  if norm:\n",
        "    cm = confusion_matrix(y_true, y_pred, normalize=\"true\")\n",
        "    title = \"Normalized confuzion matrix\"\n",
        "  else:\n",
        "    cm = confusion_matrix(y_true, y_pred)\n",
        "    title = \"Confusion matrix\"\n",
        "  ax = plt.subplot()\n",
        "  sns.heatmap(cm, annot=True, ax = ax); #annot=True to annotate cells\n",
        "\n",
        "  # labels, title and ticks\n",
        "  ax.set_xlabel('Predicted labels');\n",
        "  ax.set_ylabel('True labels'); \n",
        "  title = title +  \" Precision: \" + str(round(precision, 2)) + \" | Recall: \" + str(round(recall, 2)) + \" | F1-score: \" + str(round(f1, 2))\n",
        "  ax.set_title(title); \n",
        "  ax.xaxis.set_ticklabels(['0', '1']); \n",
        "  ax.yaxis.set_ticklabels(['1', '0']);\n",
        "  plt.show()"
      ],
      "execution_count": 98,
      "outputs": []
    },
    {
      "cell_type": "code",
      "metadata": {
        "id": "rg7ZBcRbFCDh",
        "colab_type": "code",
        "colab": {}
      },
      "source": [
        "outsample_scores = load_model_weight_predict(model_name, input_shape, network_depth, outsample_X)\n",
        "outsample_pred = np.where(outsample_scores >= 5., 1, 0)"
      ],
      "execution_count": 99,
      "outputs": []
    },
    {
      "cell_type": "code",
      "metadata": {
        "id": "xrA20XEEvTwa",
        "colab_type": "code",
        "colab": {
          "base_uri": "https://localhost:8080/",
          "height": 573
        },
        "outputId": "4c545cc4-d6a3-4a0a-b6c2-dfa304d4889c"
      },
      "source": [
        "plot_confusion_matrix(outsample_y, outsample_pred)\n",
        "plot_confusion_matrix(outsample_y, outsample_pred, norm=False)"
      ],
      "execution_count": 100,
      "outputs": [
        {
          "output_type": "display_data",
          "data": {
            "image/png": "[encoded data removed]",
            "text/plain": [
              "<Figure size 432x288 with 2 Axes>"
            ]
          },
          "metadata": {
            "tags": [],
            "needs_background": "light"
          }
        },
        {
          "output_type": "display_data",
          "data": {
            "image/png": "[encoded data removed]",
            "text/plain": [
              "<Figure size 432x288 with 2 Axes>"
            ]
          },
          "metadata": {
            "tags": [],
            "needs_background": "light"
          }
        }
      ]
    },
    {
      "cell_type": "markdown",
      "metadata": {
        "id": "6chsCayKCdrx",
        "colab_type": "text"
      },
      "source": [
        "### Compare with RandomForest implementation"
      ]
    },
    {
      "cell_type": "code",
      "metadata": {
        "id": "IXR-McYW1EQe",
        "colab_type": "code",
        "colab": {
          "base_uri": "https://localhost:8080/",
          "height": 163
        },
        "outputId": "919ffd52-b16b-4b94-e6f2-6d5beb6e73c1"
      },
      "source": [
        "from sklearn.ensemble import RandomForestClassifier\n",
        "\n",
        "rf = RandomForestClassifier()\n",
        "\n",
        "rf.fit(insample_X, insample_y)"
      ],
      "execution_count": 101,
      "outputs": [
        {
          "output_type": "execute_result",
          "data": {
            "text/plain": [
              "RandomForestClassifier(bootstrap=True, ccp_alpha=0.0, class_weight=None,\n",
              "                       criterion='gini', max_depth=None, max_features='auto',\n",
              "                       max_leaf_nodes=None, max_samples=None,\n",
              "                       min_impurity_decrease=0.0, min_impurity_split=None,\n",
              "                       min_samples_leaf=1, min_samples_split=2,\n",
              "                       min_weight_fraction_leaf=0.0, n_estimators=100,\n",
              "                       n_jobs=None, oob_score=False, random_state=None,\n",
              "                       verbose=0, warm_start=False)"
            ]
          },
          "metadata": {
            "tags": []
          },
          "execution_count": 101
        }
      ]
    },
    {
      "cell_type": "code",
      "metadata": {
        "id": "_KsXUT9lC1z5",
        "colab_type": "code",
        "colab": {}
      },
      "source": [
        "rf_predict = rf.predict(outsample_X)"
      ],
      "execution_count": 102,
      "outputs": []
    },
    {
      "cell_type": "code",
      "metadata": {
        "id": "AlWSAFVWDJIR",
        "colab_type": "code",
        "colab": {
          "base_uri": "https://localhost:8080/",
          "height": 295
        },
        "outputId": "f2c40f41-489d-48ee-e207-7170cc432427"
      },
      "source": [
        "plot_confusion_matrix(outsample_y, rf_predict)"
      ],
      "execution_count": 103,
      "outputs": [
        {
          "output_type": "display_data",
          "data": {
            "image/png": "[encoded data removed]",
            "text/plain": [
              "<Figure size 432x288 with 2 Axes>"
            ]
          },
          "metadata": {
            "tags": [],
            "needs_background": "light"
          }
        }
      ]
    },
    {
      "cell_type": "code",
      "metadata": {
        "id": "pmldk76YEyi5",
        "colab_type": "code",
        "colab": {}
      },
      "source": [
        ""
      ],
      "execution_count": null,
      "outputs": []
    }
  ]
}